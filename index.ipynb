{
 "cells": [
  {
   "cell_type": "markdown",
   "metadata": {},
   "source": [
    "# Monte Carlo Simulations - Lab\n",
    "\n",
    "## Introduction\n",
    "\n",
    "In order to calculate the precise probability of an event occurring, one needs to know the number of occurrences and the number of possible outcomes. If there are a large number of variables, these sample spaces can explode very quickly. Often, these spaces are so large that analyzing all possible outcomes is not  possible. As an alternative, these large sets can be approximated using Monte Carlo simulations. In this lab, you will conduct a Monte Carlo simulation of a permutation test that would otherwise be infeasible to compute.\n",
    "\n",
    "\n",
    "## Objectives \n",
    "\n",
    "In this lab you will:\n",
    "- Conduct a Monte Carlo simulation"
   ]
  },
  {
   "cell_type": "markdown",
   "metadata": {},
   "source": [
    "## Exploding sample sizes\n",
    "\n",
    "As we discussed in the previous lesson, permutation test sizes can quickly explode as our original sample sizes grow. To demonstrate this, create a graph to show how the number of permutations increases as we increase just one of the sample sizes. Assume that our first sample is of 25 individuals. From there, plot a graph of how the permutation test sample size increases drastically as our second sample increases from 10 to 200 individuals. (Assume that every new person has a unique blood pressure; a stretch of an assumption, but greatly simplifies our calculations for now.)"
   ]
  },
  {
   "cell_type": "code",
   "execution_count": 35,
   "metadata": {},
   "outputs": [],
   "source": [
    "from scipy.special import comb\n",
    "import matplotlib.pyplot as plt\n",
    "import numpy as np"
   ]
  },
  {
   "cell_type": "code",
   "execution_count": 36,
   "metadata": {},
   "outputs": [
    {
     "data": {
      "text/plain": [
       "Text(0, 0.5, 'Number of ways to create a subset of 25 out of 25+x objects')"
      ]
     },
     "execution_count": 36,
     "metadata": {},
     "output_type": "execute_result"
    },
    {
     "data": {
      "image/png": "[encoded data removed]",
      "text/plain": [
       "<Figure size 576x360 with 1 Axes>"
      ]
     },
     "metadata": {
      "needs_background": "light"
     },
     "output_type": "display_data"
    }
   ],
   "source": [
    "# note: comb(N,k) = N!/(k!.(N-k)!) = number of combinations of N things taken k at a time (order doesn't matter)\n",
    "x=[]\n",
    "y=[]\n",
    "a=25\n",
    "for b in range(10,200):\n",
    "    x.append(b)\n",
    "    y.append(comb((a+b),a))\n",
    "plt.figure(figsize=(8,5))\n",
    "plt.plot(x,y)\n",
    "plt.title('Number of possible subsets of 25 from a group of 25+x objects (combinations)')\n",
    "plt.xlabel('size of second sample (10 to 200)')\n",
    "plt.ylabel('Number of ways to create a subset of 25 out of 25+x objects')"
   ]
  },
  {
   "cell_type": "markdown",
   "metadata": {},
   "source": [
    "## Creating the Monte Carlo simulation\n",
    "\n",
    "Let's expand upon our blood pressure example from the Resampling methods lab. Even with our previous sample sizes of a sample of 14 and a sample of 12, we had a total of over 9 million possible outcomes. As you can see from the graph above, this quantity continues to rapidly increase. As a result, it is often impractical or impossible to calculate all possible variations. Instead, use a Monte Carlo simulation to sample from the sample space in order to emulate a permutation test. While a precise simulation of a permutation test would record which ordered combinations we have already simulate, doing so greatly reduces the speed of the process. Below are the complete samples of two populations' blood pressure.  \n",
    "  \n",
    "Write a Monte Carlo simulation to sample from the permutation space. Be sure to not allow replacement so that no cases are repeated. Calculate the p-value after `10, 100, 500, 1000, 10**4, 10**5, 10**6, 2*10**6 and 5*10**6` iterations. Graph these to show how the p-value stabilizes and converges after a large number of iterations."
   ]
  },
  {
   "cell_type": "markdown",
   "metadata": {},
   "source": [
    "##  Read this cell before the one above\n",
    "\n",
    "## Note:\n",
    "Resampling method lab is in section 14.\n",
    "What we did back then:\n",
    "## Permutation testing \n",
    "2 samples A and B made of the blood pressure of sample patients.  \n",
    "The research study is looking to validate whether there is a statistical difference in the blood pressure of these two groups using a 5% significance level.   \n",
    "First, calculate the difference of the mean blood pressure of each of the two samples.  \n",
    "From there, generate all the possible combinations of the entire sample data into A-B splits of equivalent sizes as the original sets. For each of these combinations, calculate the differences in mean blood pressure of the two groups . \n",
    "The full collection of the difference in means between these generated samples will serve as the denominator to calculate the p-value associated with the difference between the original sample means.  \n",
    "Example:  \n",
    "8 blood pressure measures in A \n",
    "6 in B\n",
    "H0 = the drug has no effect on the bloood pressure. difference of means between 2 groups = 0\n",
    "Ha = if you take the drug, your blood pressure is lowered significantly. control mean - experimental mean  > 0 \n",
    "A and B are 2 samples We used permutation resampling testing to get 3003 new pairs of subsamples of equivalent sizes as the original sets A and B. Significance treshold: alpha =2.5% because we are doing a one-tail test. ie. statistical significance is obtained when the difference of the means is in the right tail of the distribution above the 2 standard deviation mark.\n",
    "\n",
    "p-value = fraction of the 3003 differences that are > difference of means of A and B.\n"
   ]
  },
  {
   "cell_type": "code",
   "execution_count": 192,
   "metadata": {},
   "outputs": [],
   "source": [
    "a = [109.6927759 , 120.27296943, 103.54012038, 114.16555857,\n",
    "       122.93336175, 110.9271756 , 114.77443758, 116.34159338,\n",
    "       130.72888419, 116.04552895, 114.8313492 , 117.52704641,\n",
    "       109.06597142, 117.0317262 , 114.34876391, 111.32151926,\n",
    "       108.90594481, 110.95040527,  99.15890727, 117.93581615,\n",
    "       106.35644209, 112.88102458, 103.87574946, 111.88394265,\n",
    "       115.42450119, 124.02872282, 116.19121625, 115.59471365,\n",
    "       112.66413025, 118.30562665, 132.31196515, 117.99000948]\n",
    "b = [123.98967482, 141.11969004, 117.00293412, 121.6419775 ,\n",
    "       123.2703033 , 123.76944385, 105.95249634, 114.87114479,\n",
    "       110.50162354, 121.31836918, 124.9483451 , 126.04639783,\n",
    "       119.71433463, 117.49416398, 129.47657837, 115.57798929,\n",
    "       117.36035264, 130.92919224, 104.43218778, 119.97610071,\n",
    "       115.67085089, 113.77487389, 114.02470379, 116.64660978,\n",
    "       117.3023355 , 116.30944159, 123.66560428, 117.87222118,\n",
    "       128.8445079 , 111.7976685 , 117.25730744, 111.62121119,\n",
    "       110.12277446, 112.7150916 , 129.21006268, 125.97287311,\n",
    "       130.6878082 , 140.60768727, 121.95433026, 123.11996767,\n",
    "       129.93260914, 121.01049611, 129.23680238]"
   ]
  },
  {
   "cell_type": "code",
   "execution_count": 185,
   "metadata": {},
   "outputs": [],
   "source": [
    "a = [109.6927759 , 120.27296943, 103.54012038, 114.16555857,\n",
    "       122.93336175, 110.9271756 , 114.77443758, 116.34159338,\n",
    "       130.72888419, 116.04552895, 114.8313492 , 117.52704641,\n",
    "       109.06597142, 117.0317262 , 114.34876391, 111.32151926,\n",
    "       108.90594481, 110.95040527,  99.15890727, 117.93581615,\n",
    "       106.35644209, 112.88102458, 103.87574946, 111.88394265,\n",
    "       115.42450119, 124.02872282, 116.19121625, 115.59471365,\n",
    "       112.66413025, 118.30562665, 132.31196515, 117.99000948]\n",
    "b = [127.98967482, 145.11969004, 121.00293412, 125.6419775 ,\n",
    "       131.2703033 , 133.76944385, 135.95249634, 114.87114479,\n",
    "       140.50162354, 121.31836918, 124.9483451 , 126.04639783,\n",
    "       119.71433463, 147.49416398, 129.47657837, 119.57798929,\n",
    "       117.36035264, 130.92919224, 104.43218778, 119.97610071,\n",
    "       115.67085089, 119.77487389, 119.02470379, 119.64660978,\n",
    "       119.3023355 , 136.30944159, 123.66560428, 119.87222118,\n",
    "       128.8445079 , 147.7976685 , 117.25730744, 111.62121119,\n",
    "       122.12277446, 112.7150916 , 129.21006268, 125.97287311,\n",
    "       130.6878082 , 140.60768727, 121.95433026, 123.11996767,\n",
    "       129.93260914, 121.01049611, 129.23680238]"
   ]
  },
  {
   "cell_type": "code",
   "execution_count": 193,
   "metadata": {},
   "outputs": [
    {
     "data": {
      "text/plain": [
       "<matplotlib.legend.Legend at 0x232de266cf8>"
      ]
     },
     "execution_count": 193,
     "metadata": {},
     "output_type": "execute_result"
    },
    {
     "data": {
      "image/png": "[encoded data removed]",
      "text/plain": [
       "<Figure size 432x288 with 1 Axes>"
      ]
     },
     "metadata": {
      "needs_background": "light"
     },
     "output_type": "display_data"
    }
   ],
   "source": [
    "import seaborn as sns\n",
    "sns.distplot(a,label=\"a:experimental group?\")\n",
    "sns.distplot(b,label=\"b:control group?\")\n",
    "plt.legend()"
   ]
  },
  {
   "cell_type": "code",
   "execution_count": 163,
   "metadata": {},
   "outputs": [],
   "source": [
    "a=[1,2,3]\n",
    "b=[3,4]\n",
    "\n"
   ]
  },
  {
   "cell_type": "code",
   "execution_count": 157,
   "metadata": {},
   "outputs": [],
   "source": [
    "b = [109.6927759 , 120.27296943, 103.54012038, 114.16555857,\n",
    "       122.93336175, 110.9271756 , 114.77443758, 116.34159338,\n",
    "       130.72888419, 116.04552895, 114.8313492 , 117.52704641,\n",
    "       109.06597142, 117.0317262 , 114.34876391, 111.32151926,\n",
    "       108.90594481, 110.95040527,  99.15890727, 117.93581615,\n",
    "       106.35644209, 112.88102458, 103.87574946, 111.88394265,\n",
    "       115.42450119, 124.02872282, 116.19121625, 115.59471365,\n",
    "       112.66413025, 118.30562665, 132.31196515, 117.99000948]\n",
    "a=[140.6927759 , 145.27296943]"
   ]
  },
  {
   "cell_type": "code",
   "execution_count": 194,
   "metadata": {},
   "outputs": [
    {
     "name": "stdout",
     "output_type": "stream",
     "text": [
      "32 43\n",
      "1.5606061216122654e+21\n",
      "1.5606061216122654e+21\n",
      "6.043384265966566\n"
     ]
    }
   ],
   "source": [
    "#Your code here\n",
    "# ⏰ This cell may take several minutes to run\n",
    "print (len(a), len(b))\n",
    "print (  comb((len(a)+len(b)),len(a))  )\n",
    "print (  comb((len(a)+len(b)),len(b))  )\n",
    "# If we were using the permutation resampling process, we would generate 1.5*10^21 sets of 2 samples !!\n",
    "# Let's generate only a subset to speed things up\n",
    "union=a+b\n",
    "firstdiff = np.mean(b)- np.mean(a)\n",
    "print(firstdiff)\n",
    "\n"
   ]
  },
  {
   "cell_type": "code",
   "execution_count": 197,
   "metadata": {},
   "outputs": [],
   "source": [
    "n= 80000\n",
    "countr=0\n",
    "s=len(a)\n",
    "\n",
    "countrlist=[]\n",
    "\n",
    "meanu=np.mean(union)\n",
    "lenu=len(union)\n",
    "\n",
    "# loop\n",
    "for i in range(n):\n",
    "    \n",
    "    # choose randomly len(a) samples from union\n",
    "    smpla = np.random.choice(union, size=s, replace=False)\n",
    "    \n",
    "    #meanofsampleb*lenofsampleb+meanofsamplea*lenofsamplea = meanofunion*lenofunion\n",
    "    meanb = (meanu*lenu-(np.mean(smpla))*s) / (lenu-s)\n",
    "        \n",
    "    diff = meanb - (np.mean(smpla))\n",
    "    \n",
    "    if diff >= firstdiff:\n",
    "#         print('yes')\n",
    "        countr+=1\n",
    "    i+=1\n",
    "    countrlist.append(countr)\n",
    "#     print(smpla)\n",
    "# print(countrlist)"
   ]
  },
  {
   "cell_type": "code",
   "execution_count": 200,
   "metadata": {},
   "outputs": [
    {
     "data": {
      "image/png": "[encoded data removed]",
      "text/plain": [
       "<Figure size 576x360 with 1 Axes>"
      ]
     },
     "metadata": {
      "needs_background": "light"
     },
     "output_type": "display_data"
    },
    {
     "name": "stdout",
     "output_type": "stream",
     "text": [
      "0.0 0.0\n",
      "0.0 0.000504999495000505\n"
     ]
    }
   ],
   "source": [
    "pvallist=[]\n",
    "for i in range(len(countrlist)):\n",
    "    pvallist.append(countrlist[i]/(i+1))\n",
    "# print(pvallist)\n",
    "\n",
    "plt.figure(figsize=(8,5))\n",
    "x=range(len(pvallist))\n",
    "y=pvallist\n",
    "plt.plot(x,y)\n",
    "plt.show();\n",
    "\n",
    "print(pvallist[9],pvallist[99])\n",
    "print(pvallist[900],pvallist[9900])"
   ]
  },
  {
   "cell_type": "code",
   "execution_count": 202,
   "metadata": {},
   "outputs": [
    {
     "name": "stdout",
     "output_type": "stream",
     "text": [
      "-6.043384265966566\n",
      "After 10 iterations p-value is: 0.0\n",
      "After 90 iterations p-value is: 0.0\n",
      "After 100 iterations p-value is: 0.0\n",
      "After 500 iterations p-value is: 0.001996007984031936\n",
      "After 1000 iterations p-value is: 0.000999000999000999\n",
      "After 10000 iterations p-value is: 0.00019998000199980003\n"
     ]
    }
   ],
   "source": [
    "# ⏰ This cell may take several minutes to run\n",
    "diff_mu_a_b = np.mean(a) - np.mean(b)\n",
    "print(diff_mu_a_b)\n",
    "num = 0\n",
    "denom = 0\n",
    "union = a + b\n",
    "for i in range(80000):\n",
    "    # Generate ai\n",
    "    ai = np.random.choice(union, size=len(a), replace=False)\n",
    "    # Generate its compliment as bi\n",
    "    bi = union.copy()\n",
    "    for item in ai:\n",
    "        bi.remove(item)\n",
    "    diff_mu_ai_bi = np.mean(ai) - np.mean(bi)\n",
    "    if diff_mu_ai_bi < diff_mu_a_b:\n",
    "        num +=1\n",
    "    denom += 1\n",
    "    # Compute difference in means\n",
    "    if i in [10,90,100,500,1000, 10**4, 10**5, 10**6, 2*10**6, 5*10**6]:\n",
    "        print(\"After {} iterations p-value is: {}\".format(i, num/denom))"
   ]
  },
  {
   "cell_type": "code",
   "execution_count": 191,
   "metadata": {},
   "outputs": [],
   "source": [
    "#I don't understand these results but they are consistent with the solution...."
   ]
  },
  {
   "cell_type": "markdown",
   "metadata": {},
   "source": [
    "## Summary\n",
    "\n",
    "In this lab you simulated a permutation test and observed both how sample sizes can explode rapidly and how p-values will converge over time in a simulation."
   ]
  }
 ],
 "metadata": {
  "kernelspec": {
   "display_name": "Python 3",
   "language": "python",
   "name": "python3"
  },
  "language_info": {
   "codemirror_mode": {
    "name": "ipython",
    "version": 3
   },
   "file_extension": ".py",
   "mimetype": "text/x-python",
   "name": "python",
   "nbconvert_exporter": "python",
   "pygments_lexer": "ipython3",
   "version": "3.6.9"
  },
  "toc": {
   "base_numbering": 1,
   "nav_menu": {},
   "number_sections": true,
   "sideBar": true,
   "skip_h1_title": false,
   "title_cell": "Table of Contents",
   "title_sidebar": "Contents",
   "toc_cell": false,
   "toc_position": {},
   "toc_section_display": true,
   "toc_window_display": false
  }
 },
 "nbformat": 4,
 "nbformat_minor": 2
}
